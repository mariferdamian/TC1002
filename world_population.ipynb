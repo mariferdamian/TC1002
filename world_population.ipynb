{
  "nbformat": 4,
  "nbformat_minor": 0,
  "metadata": {
    "colab": {
      "name": "world_population.ipynb",
      "provenance": [],
      "collapsed_sections": [],
      "authorship_tag": "ABX9TyOVXD6+5B9oAwgrHLmB+hYl",
      "include_colab_link": true
    },
    "kernelspec": {
      "name": "python3",
      "display_name": "Python 3"
    },
    "language_info": {
      "name": "python"
    }
  },
  "cells": [
    {
      "cell_type": "markdown",
      "metadata": {
        "id": "view-in-github",
        "colab_type": "text"
      },
      "source": [
        "<a href=\"https://colab.research.google.com/github/mariferdamian/TC1002/blob/master/world_population.ipynb\" target=\"_parent\"><img src=\"https://colab.research.google.com/assets/colab-badge.svg\" alt=\"Open In Colab\"/></a>"
      ]
    },
    {
      "cell_type": "code",
      "metadata": {
        "id": "Jz4Vavd4PPbx"
      },
      "source": [
        "#María Fernanda Damian\n",
        "#A0151918\n",
        "#TC1002S"
      ],
      "execution_count": null,
      "outputs": []
    },
    {
      "cell_type": "code",
      "metadata": {
        "colab": {
          "base_uri": "https://localhost:8080/"
        },
        "id": "fwDHdzafJqI1",
        "outputId": "260684d5-f1fc-4925-ec1e-bea5c0c53e55"
      },
      "source": [
        "#Importar librería de Google drive\n",
        "from google.colab import drive\n",
        "drive.mount('/content/drive')\n",
        "\n"
      ],
      "execution_count": 5,
      "outputs": [
        {
          "output_type": "stream",
          "text": [
            "Mounted at /content/drive\n"
          ],
          "name": "stdout"
        }
      ]
    },
    {
      "cell_type": "code",
      "metadata": {
        "id": "IiK-1nN8KIP8"
      },
      "source": [
        "#Importar librerías \n",
        "import pandas as pd \n",
        "import numpy as np\n",
        "import matplotlib.pyplot as plt\n",
        "import seaborn as sns"
      ],
      "execution_count": 6,
      "outputs": []
    },
    {
      "cell_type": "code",
      "metadata": {
        "id": "ltg31emDKNRB"
      },
      "source": [
        "#Importar Dataset y almacenarlo en una variable\n",
        "word_population = pd.read_excel('/content/drive/MyDrive/TC1002S/World_population.xlsm')"
      ],
      "execution_count": 10,
      "outputs": []
    },
    {
      "cell_type": "code",
      "metadata": {
        "colab": {
          "base_uri": "https://localhost:8080/",
          "height": 377
        },
        "id": "E1__NX-wKaqT",
        "outputId": "23ab7c17-f0ab-4cdd-ce6e-5e5ed95bceaf"
      },
      "source": [
        "word_population.head()\n"
      ],
      "execution_count": 13,
      "outputs": [
        {
          "output_type": "execute_result",
          "data": {
            "text/html": [
              "<div>\n",
              "<style scoped>\n",
              "    .dataframe tbody tr th:only-of-type {\n",
              "        vertical-align: middle;\n",
              "    }\n",
              "\n",
              "    .dataframe tbody tr th {\n",
              "        vertical-align: top;\n",
              "    }\n",
              "\n",
              "    .dataframe thead th {\n",
              "        text-align: right;\n",
              "    }\n",
              "</style>\n",
              "<table border=\"1\" class=\"dataframe\">\n",
              "  <thead>\n",
              "    <tr style=\"text-align: right;\">\n",
              "      <th></th>\n",
              "      <th>Country</th>\n",
              "      <th>Continent</th>\n",
              "      <th>Date</th>\n",
              "      <th>GDP</th>\n",
              "      <th>GNI</th>\n",
              "      <th>Live births number</th>\n",
              "      <th>Live births rate</th>\n",
              "      <th>Deaths number</th>\n",
              "      <th>Death rate</th>\n",
              "      <th>Rate of increase</th>\n",
              "      <th>Infant deaths number</th>\n",
              "      <th>Infant deaths rate (per 1000 births)</th>\n",
              "      <th>Life expectancy at birth male</th>\n",
              "      <th>Life expectancy at birth female</th>\n",
              "      <th>Total fertility rate</th>\n",
              "    </tr>\n",
              "  </thead>\n",
              "  <tbody>\n",
              "    <tr>\n",
              "      <th>0</th>\n",
              "      <td>Algeria</td>\n",
              "      <td>Africa</td>\n",
              "      <td>2010</td>\n",
              "      <td>188681</td>\n",
              "      <td>8310.0</td>\n",
              "      <td>887810</td>\n",
              "      <td>24.7</td>\n",
              "      <td>157000</td>\n",
              "      <td></td>\n",
              "      <td></td>\n",
              "      <td></td>\n",
              "      <td></td>\n",
              "      <td>75.6</td>\n",
              "      <td>77.0</td>\n",
              "      <td></td>\n",
              "    </tr>\n",
              "    <tr>\n",
              "      <th>1</th>\n",
              "      <td>≈land Islands</td>\n",
              "      <td>Europe</td>\n",
              "      <td>2009</td>\n",
              "      <td></td>\n",
              "      <td>1140.0</td>\n",
              "      <td>267</td>\n",
              "      <td>9.7</td>\n",
              "      <td>247</td>\n",
              "      <td>9</td>\n",
              "      <td>0.7</td>\n",
              "      <td></td>\n",
              "      <td></td>\n",
              "      <td>79.4</td>\n",
              "      <td>84.1</td>\n",
              "      <td>1.68</td>\n",
              "    </tr>\n",
              "    <tr>\n",
              "      <th>2</th>\n",
              "      <td>Antigua and Barbuda</td>\n",
              "      <td>North America</td>\n",
              "      <td>2010</td>\n",
              "      <td>1118</td>\n",
              "      <td>17900.0</td>\n",
              "      <td>1255</td>\n",
              "      <td>13.8</td>\n",
              "      <td>491</td>\n",
              "      <td>5.4</td>\n",
              "      <td>8.4</td>\n",
              "      <td>11</td>\n",
              "      <td></td>\n",
              "      <td>74.0</td>\n",
              "      <td>79.7</td>\n",
              "      <td></td>\n",
              "    </tr>\n",
              "    <tr>\n",
              "      <th>3</th>\n",
              "      <td>Argentina</td>\n",
              "      <td>South America</td>\n",
              "      <td>2010</td>\n",
              "      <td>446044</td>\n",
              "      <td>17130.0</td>\n",
              "      <td>756176</td>\n",
              "      <td>18.7</td>\n",
              "      <td>318602</td>\n",
              "      <td>7.9</td>\n",
              "      <td>10.8</td>\n",
              "      <td>8961</td>\n",
              "      <td>11.9</td>\n",
              "      <td>71.6</td>\n",
              "      <td>79.1</td>\n",
              "      <td>2.39</td>\n",
              "    </tr>\n",
              "    <tr>\n",
              "      <th>4</th>\n",
              "      <td>Armenia</td>\n",
              "      <td>Asia</td>\n",
              "      <td>2007</td>\n",
              "      <td>10248</td>\n",
              "      <td>6100.0</td>\n",
              "      <td>40105</td>\n",
              "      <td>12.4</td>\n",
              "      <td>26830</td>\n",
              "      <td>8.3</td>\n",
              "      <td>4.1</td>\n",
              "      <td>433</td>\n",
              "      <td>10.8</td>\n",
              "      <td>70.2</td>\n",
              "      <td>76.6</td>\n",
              "      <td>1.42</td>\n",
              "    </tr>\n",
              "  </tbody>\n",
              "</table>\n",
              "</div>"
            ],
            "text/plain": [
              "               Country  ... Total fertility rate\n",
              "0             Algeria   ...                     \n",
              "1        ≈land Islands  ...                 1.68\n",
              "2  Antigua and Barbuda  ...                     \n",
              "3            Argentina  ...                 2.39\n",
              "4             Armenia   ...                 1.42\n",
              "\n",
              "[5 rows x 15 columns]"
            ]
          },
          "metadata": {
            "tags": []
          },
          "execution_count": 13
        }
      ]
    },
    {
      "cell_type": "code",
      "metadata": {
        "colab": {
          "base_uri": "https://localhost:8080/"
        },
        "id": "3Qxp-PcxOdWb",
        "outputId": "9ba16c97-9eb4-4b9d-ce16-ef26f02d5d89"
      },
      "source": [
        "word_population.shape"
      ],
      "execution_count": 14,
      "outputs": [
        {
          "output_type": "execute_result",
          "data": {
            "text/plain": [
              "(105, 15)"
            ]
          },
          "metadata": {
            "tags": []
          },
          "execution_count": 14
        }
      ]
    },
    {
      "cell_type": "code",
      "metadata": {
        "colab": {
          "base_uri": "https://localhost:8080/",
          "height": 495
        },
        "id": "8NO-FSeiPUR0",
        "outputId": "382c04a0-e9e3-4b56-b811-8bc398aca6a6"
      },
      "source": [
        "#Crear un análisis descriptivo donde se obtiene la media, desviación estándar, máximos y mínimos, entre otros\n",
        "word_population.describe(include='all')"
      ],
      "execution_count": 30,
      "outputs": [
        {
          "output_type": "execute_result",
          "data": {
            "text/html": [
              "<div>\n",
              "<style scoped>\n",
              "    .dataframe tbody tr th:only-of-type {\n",
              "        vertical-align: middle;\n",
              "    }\n",
              "\n",
              "    .dataframe tbody tr th {\n",
              "        vertical-align: top;\n",
              "    }\n",
              "\n",
              "    .dataframe thead th {\n",
              "        text-align: right;\n",
              "    }\n",
              "</style>\n",
              "<table border=\"1\" class=\"dataframe\">\n",
              "  <thead>\n",
              "    <tr style=\"text-align: right;\">\n",
              "      <th></th>\n",
              "      <th>Country</th>\n",
              "      <th>Continent</th>\n",
              "      <th>Date</th>\n",
              "      <th>GDP</th>\n",
              "      <th>GNI</th>\n",
              "      <th>Live births number</th>\n",
              "      <th>Live births rate</th>\n",
              "      <th>Deaths number</th>\n",
              "      <th>Death rate</th>\n",
              "      <th>Rate of increase</th>\n",
              "      <th>Infant deaths number</th>\n",
              "      <th>Infant deaths rate (per 1000 births)</th>\n",
              "      <th>Life expectancy at birth male</th>\n",
              "      <th>Life expectancy at birth female</th>\n",
              "      <th>Total fertility rate</th>\n",
              "    </tr>\n",
              "  </thead>\n",
              "  <tbody>\n",
              "    <tr>\n",
              "      <th>count</th>\n",
              "      <td>105</td>\n",
              "      <td>105</td>\n",
              "      <td>105.000000</td>\n",
              "      <td>105</td>\n",
              "      <td>95.000000</td>\n",
              "      <td>105</td>\n",
              "      <td>105</td>\n",
              "      <td>105</td>\n",
              "      <td>105</td>\n",
              "      <td>105</td>\n",
              "      <td>105</td>\n",
              "      <td>105</td>\n",
              "      <td>105.000000</td>\n",
              "      <td>105.000000</td>\n",
              "      <td>105</td>\n",
              "    </tr>\n",
              "    <tr>\n",
              "      <th>unique</th>\n",
              "      <td>105</td>\n",
              "      <td>6</td>\n",
              "      <td>NaN</td>\n",
              "      <td>93</td>\n",
              "      <td>NaN</td>\n",
              "      <td>98</td>\n",
              "      <td>63</td>\n",
              "      <td>96</td>\n",
              "      <td>59</td>\n",
              "      <td>64</td>\n",
              "      <td>79</td>\n",
              "      <td>51</td>\n",
              "      <td>NaN</td>\n",
              "      <td>NaN</td>\n",
              "      <td>61</td>\n",
              "    </tr>\n",
              "    <tr>\n",
              "      <th>top</th>\n",
              "      <td>Bermuda</td>\n",
              "      <td>Europe</td>\n",
              "      <td>NaN</td>\n",
              "      <td></td>\n",
              "      <td>NaN</td>\n",
              "      <td></td>\n",
              "      <td></td>\n",
              "      <td></td>\n",
              "      <td></td>\n",
              "      <td></td>\n",
              "      <td></td>\n",
              "      <td></td>\n",
              "      <td>NaN</td>\n",
              "      <td>NaN</td>\n",
              "      <td></td>\n",
              "    </tr>\n",
              "    <tr>\n",
              "      <th>freq</th>\n",
              "      <td>1</td>\n",
              "      <td>35</td>\n",
              "      <td>NaN</td>\n",
              "      <td>12</td>\n",
              "      <td>NaN</td>\n",
              "      <td>8</td>\n",
              "      <td>22</td>\n",
              "      <td>10</td>\n",
              "      <td>27</td>\n",
              "      <td>28</td>\n",
              "      <td>25</td>\n",
              "      <td>44</td>\n",
              "      <td>NaN</td>\n",
              "      <td>NaN</td>\n",
              "      <td>30</td>\n",
              "    </tr>\n",
              "    <tr>\n",
              "      <th>mean</th>\n",
              "      <td>NaN</td>\n",
              "      <td>NaN</td>\n",
              "      <td>2009.257143</td>\n",
              "      <td>NaN</td>\n",
              "      <td>22902.947368</td>\n",
              "      <td>NaN</td>\n",
              "      <td>NaN</td>\n",
              "      <td>NaN</td>\n",
              "      <td>NaN</td>\n",
              "      <td>NaN</td>\n",
              "      <td>NaN</td>\n",
              "      <td>NaN</td>\n",
              "      <td>71.848571</td>\n",
              "      <td>77.394286</td>\n",
              "      <td>NaN</td>\n",
              "    </tr>\n",
              "    <tr>\n",
              "      <th>std</th>\n",
              "      <td>NaN</td>\n",
              "      <td>NaN</td>\n",
              "      <td>1.168732</td>\n",
              "      <td>NaN</td>\n",
              "      <td>20633.995388</td>\n",
              "      <td>NaN</td>\n",
              "      <td>NaN</td>\n",
              "      <td>NaN</td>\n",
              "      <td>NaN</td>\n",
              "      <td>NaN</td>\n",
              "      <td>NaN</td>\n",
              "      <td>NaN</td>\n",
              "      <td>7.034012</td>\n",
              "      <td>7.305449</td>\n",
              "      <td>NaN</td>\n",
              "    </tr>\n",
              "    <tr>\n",
              "      <th>min</th>\n",
              "      <td>NaN</td>\n",
              "      <td>NaN</td>\n",
              "      <td>2007.000000</td>\n",
              "      <td>NaN</td>\n",
              "      <td>870.000000</td>\n",
              "      <td>NaN</td>\n",
              "      <td>NaN</td>\n",
              "      <td>NaN</td>\n",
              "      <td>NaN</td>\n",
              "      <td>NaN</td>\n",
              "      <td>NaN</td>\n",
              "      <td>NaN</td>\n",
              "      <td>42.200000</td>\n",
              "      <td>43.100000</td>\n",
              "      <td>NaN</td>\n",
              "    </tr>\n",
              "    <tr>\n",
              "      <th>25%</th>\n",
              "      <td>NaN</td>\n",
              "      <td>NaN</td>\n",
              "      <td>2008.000000</td>\n",
              "      <td>NaN</td>\n",
              "      <td>8350.000000</td>\n",
              "      <td>NaN</td>\n",
              "      <td>NaN</td>\n",
              "      <td>NaN</td>\n",
              "      <td>NaN</td>\n",
              "      <td>NaN</td>\n",
              "      <td>NaN</td>\n",
              "      <td>NaN</td>\n",
              "      <td>69.500000</td>\n",
              "      <td>75.500000</td>\n",
              "      <td>NaN</td>\n",
              "    </tr>\n",
              "    <tr>\n",
              "      <th>50%</th>\n",
              "      <td>NaN</td>\n",
              "      <td>NaN</td>\n",
              "      <td>2010.000000</td>\n",
              "      <td>NaN</td>\n",
              "      <td>16940.000000</td>\n",
              "      <td>NaN</td>\n",
              "      <td>NaN</td>\n",
              "      <td>NaN</td>\n",
              "      <td>NaN</td>\n",
              "      <td>NaN</td>\n",
              "      <td>NaN</td>\n",
              "      <td>NaN</td>\n",
              "      <td>72.500000</td>\n",
              "      <td>78.700000</td>\n",
              "      <td>NaN</td>\n",
              "    </tr>\n",
              "    <tr>\n",
              "      <th>75%</th>\n",
              "      <td>NaN</td>\n",
              "      <td>NaN</td>\n",
              "      <td>2010.000000</td>\n",
              "      <td>NaN</td>\n",
              "      <td>31900.000000</td>\n",
              "      <td>NaN</td>\n",
              "      <td>NaN</td>\n",
              "      <td>NaN</td>\n",
              "      <td>NaN</td>\n",
              "      <td>NaN</td>\n",
              "      <td>NaN</td>\n",
              "      <td>NaN</td>\n",
              "      <td>77.100000</td>\n",
              "      <td>82.700000</td>\n",
              "      <td>NaN</td>\n",
              "    </tr>\n",
              "    <tr>\n",
              "      <th>max</th>\n",
              "      <td>NaN</td>\n",
              "      <td>NaN</td>\n",
              "      <td>2011.000000</td>\n",
              "      <td>NaN</td>\n",
              "      <td>86440.000000</td>\n",
              "      <td>NaN</td>\n",
              "      <td>NaN</td>\n",
              "      <td>NaN</td>\n",
              "      <td>NaN</td>\n",
              "      <td>NaN</td>\n",
              "      <td>NaN</td>\n",
              "      <td>NaN</td>\n",
              "      <td>79.900000</td>\n",
              "      <td>86.400000</td>\n",
              "      <td>NaN</td>\n",
              "    </tr>\n",
              "  </tbody>\n",
              "</table>\n",
              "</div>"
            ],
            "text/plain": [
              "        Country Continent  ...  Life expectancy at birth female Total fertility rate\n",
              "count       105       105  ...                       105.000000                  105\n",
              "unique      105         6  ...                              NaN                   61\n",
              "top     Bermuda    Europe  ...                              NaN                     \n",
              "freq          1        35  ...                              NaN                   30\n",
              "mean        NaN       NaN  ...                        77.394286                  NaN\n",
              "std         NaN       NaN  ...                         7.305449                  NaN\n",
              "min         NaN       NaN  ...                        43.100000                  NaN\n",
              "25%         NaN       NaN  ...                        75.500000                  NaN\n",
              "50%         NaN       NaN  ...                        78.700000                  NaN\n",
              "75%         NaN       NaN  ...                        82.700000                  NaN\n",
              "max         NaN       NaN  ...                        86.400000                  NaN\n",
              "\n",
              "[11 rows x 15 columns]"
            ]
          },
          "metadata": {
            "tags": []
          },
          "execution_count": 30
        }
      ]
    },
    {
      "cell_type": "markdown",
      "metadata": {
        "id": "SgfRF1xEUZyz"
      },
      "source": [
        "Al obtener las estadísitcas descriptivas de cada variable, obtuvimos que el rango de las variables float o enteras son:\n",
        "\n",
        "\n",
        "*   Date 2007 - 2011 \n",
        "*   GNI  870 - 86440\n",
        "*   Life expectancy at birth female 42.2 - 79.9\n",
        "*   Life expectancy at birth male  43.1 - 86.4\n",
        "\n",
        "Mientras que la media aritmética y la desviación estandar de cada variable es:\n",
        "*   Date \n",
        "2009.257143   \n",
        "1.168732\n",
        "*   GNI  \n",
        "22902.947368      \n",
        "20633.995388\n",
        "\n",
        "*   Life expectancy at birth female \n",
        "71.848571          \n",
        "7.034012\n",
        "*   Life expectancy at birth male  43.1 - 86.4\n",
        "77.394286            \n",
        "7.305449\n",
        "\n",
        "\n",
        "\n",
        "\n",
        "\n",
        "\n"
      ]
    },
    {
      "cell_type": "markdown",
      "metadata": {
        "id": "xeyBG6PYfCME"
      },
      "source": [
        "De estos resultados, podemos inferir que hay una mejor expectativa de vida en los hombres que en la mujeres, ya que es mayor por aproximadamente 6 años.               Asímismo, podemos saber que estos datos son datos del 2007 hasta el 2011."
      ]
    },
    {
      "cell_type": "code",
      "metadata": {
        "colab": {
          "base_uri": "https://localhost:8080/",
          "height": 0
        },
        "id": "TVPvSGamPtZP",
        "outputId": "17aff63d-e8bd-432b-a92d-58d0920dc0d1"
      },
      "source": [
        "#Obtener las columnas del dataset\n",
        "word_population.columns\n"
      ],
      "execution_count": 31,
      "outputs": [
        {
          "output_type": "execute_result",
          "data": {
            "text/plain": [
              "Index(['Country', 'Continent', 'Date', 'GDP', 'GNI', 'Live births number',\n",
              "       'Live births rate', 'Deaths number', 'Death rate', 'Rate of increase',\n",
              "       'Infant deaths number', 'Infant deaths rate (per 1000 births)',\n",
              "       'Life expectancy at birth male', 'Life expectancy at birth female',\n",
              "       'Total fertility rate'],\n",
              "      dtype='object')"
            ]
          },
          "metadata": {
            "tags": []
          },
          "execution_count": 31
        }
      ]
    },
    {
      "cell_type": "code",
      "metadata": {
        "colab": {
          "base_uri": "https://localhost:8080/"
        },
        "id": "3yrZPOf4Q9jE",
        "outputId": "644b25b3-6e08-4d27-a9f4-7691d0c401c8"
      },
      "source": [
        "#Sacar la mediana de las variables float e intergers\n",
        "word_population.median()"
      ],
      "execution_count": 15,
      "outputs": [
        {
          "output_type": "execute_result",
          "data": {
            "text/plain": [
              "Date                                2010.0\n",
              "GNI                                16940.0\n",
              "Life expectancy at birth male         72.5\n",
              "Life expectancy at birth female       78.7\n",
              "dtype: float64"
            ]
          },
          "metadata": {
            "tags": []
          },
          "execution_count": 15
        }
      ]
    },
    {
      "cell_type": "code",
      "metadata": {
        "colab": {
          "base_uri": "https://localhost:8080/",
          "height": 0
        },
        "id": "zDIAJqLnRWjn",
        "outputId": "db8f00e5-7c28-4fa2-8b62-884e74dc807a"
      },
      "source": [
        "#Ver el margen de error de las variables del dataset\n",
        "(word_population.isnull().sum()/len(word_population)*100).sort_values(ascending=False)"
      ],
      "execution_count": 33,
      "outputs": [
        {
          "output_type": "execute_result",
          "data": {
            "text/plain": [
              "GNI                                     9.52381\n",
              "Total fertility rate                    0.00000\n",
              "Life expectancy at birth female         0.00000\n",
              "Life expectancy at birth male           0.00000\n",
              "Infant deaths rate (per 1000 births)    0.00000\n",
              "Infant deaths number                    0.00000\n",
              "Rate of increase                        0.00000\n",
              "Death rate                              0.00000\n",
              "Deaths number                           0.00000\n",
              "Live births rate                        0.00000\n",
              "Live births number                      0.00000\n",
              "GDP                                     0.00000\n",
              "Date                                    0.00000\n",
              "Continent                               0.00000\n",
              "Country                                 0.00000\n",
              "dtype: float64"
            ]
          },
          "metadata": {
            "tags": []
          },
          "execution_count": 33
        }
      ]
    },
    {
      "cell_type": "code",
      "metadata": {
        "colab": {
          "base_uri": "https://localhost:8080/",
          "height": 0
        },
        "id": "comdMd2aSxpW",
        "outputId": "55f7493d-9c67-4333-ac8f-4ae130d61316"
      },
      "source": [
        "word_population['Date'].min()"
      ],
      "execution_count": 35,
      "outputs": [
        {
          "output_type": "execute_result",
          "data": {
            "text/plain": [
              "2007"
            ]
          },
          "metadata": {
            "tags": []
          },
          "execution_count": 35
        }
      ]
    },
    {
      "cell_type": "code",
      "metadata": {
        "colab": {
          "base_uri": "https://localhost:8080/",
          "height": 0
        },
        "id": "srHJBEleSnnB",
        "outputId": "ddd05465-7040-4fc9-cf82-86acd73d334a"
      },
      "source": [
        "word_population['Date'].max()"
      ],
      "execution_count": 34,
      "outputs": [
        {
          "output_type": "execute_result",
          "data": {
            "text/plain": [
              "2011"
            ]
          },
          "metadata": {
            "tags": []
          },
          "execution_count": 34
        }
      ]
    },
    {
      "cell_type": "code",
      "metadata": {
        "colab": {
          "base_uri": "https://localhost:8080/",
          "height": 0
        },
        "id": "b_pxImDHTQAS",
        "outputId": "d23d7c11-d902-4c81-82c1-17bd0108ecef"
      },
      "source": [
        "word_population['Date'].mean()"
      ],
      "execution_count": 40,
      "outputs": [
        {
          "output_type": "execute_result",
          "data": {
            "text/plain": [
              "2009.2571428571428"
            ]
          },
          "metadata": {
            "tags": []
          },
          "execution_count": 40
        }
      ]
    },
    {
      "cell_type": "code",
      "metadata": {
        "colab": {
          "base_uri": "https://localhost:8080/",
          "height": 0
        },
        "id": "0SdMZHkVTHgr",
        "outputId": "200c51da-3620-4897-b2c0-d54c5b44c728"
      },
      "source": [
        "word_population['GNI'].min()"
      ],
      "execution_count": 38,
      "outputs": [
        {
          "output_type": "execute_result",
          "data": {
            "text/plain": [
              "870.0"
            ]
          },
          "metadata": {
            "tags": []
          },
          "execution_count": 38
        }
      ]
    },
    {
      "cell_type": "code",
      "metadata": {
        "colab": {
          "base_uri": "https://localhost:8080/",
          "height": 0
        },
        "id": "jbI8-ZrbS4Bp",
        "outputId": "d74db940-8b0b-4d8e-f0e9-ff7259e39a26"
      },
      "source": [
        "word_population['GNI'].max()"
      ],
      "execution_count": 37,
      "outputs": [
        {
          "output_type": "execute_result",
          "data": {
            "text/plain": [
              "86440.0"
            ]
          },
          "metadata": {
            "tags": []
          },
          "execution_count": 37
        }
      ]
    },
    {
      "cell_type": "code",
      "metadata": {
        "colab": {
          "base_uri": "https://localhost:8080/",
          "height": 0
        },
        "id": "2HzQYSy8TLOB",
        "outputId": "f361c2e9-4de3-4d9f-8fde-38dd0c8a5683"
      },
      "source": [
        "word_population['GNI'].mean()"
      ],
      "execution_count": 39,
      "outputs": [
        {
          "output_type": "execute_result",
          "data": {
            "text/plain": [
              "22902.947368421053"
            ]
          },
          "metadata": {
            "tags": []
          },
          "execution_count": 39
        }
      ]
    },
    {
      "cell_type": "code",
      "metadata": {
        "colab": {
          "base_uri": "https://localhost:8080/",
          "height": 0
        },
        "id": "RUSZTl0VTVhi",
        "outputId": "7a966b5a-ef49-493e-de9d-0edc51ac59e6"
      },
      "source": [
        "word_population['Life expectancy at birth female'].min()"
      ],
      "execution_count": 47,
      "outputs": [
        {
          "output_type": "execute_result",
          "data": {
            "text/plain": [
              "43.1"
            ]
          },
          "metadata": {
            "tags": []
          },
          "execution_count": 47
        }
      ]
    }
  ]
}
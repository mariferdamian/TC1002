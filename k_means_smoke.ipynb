{
  "nbformat": 4,
  "nbformat_minor": 0,
  "metadata": {
    "kernelspec": {
      "display_name": "Python 3",
      "language": "python",
      "name": "python3"
    },
    "language_info": {
      "codemirror_mode": {
        "name": "ipython",
        "version": 3
      },
      "file_extension": ".py",
      "mimetype": "text/x-python",
      "name": "python",
      "nbconvert_exporter": "python",
      "pygments_lexer": "ipython3",
      "version": "3.8.5"
    },
    "colab": {
      "name": "k-means_smoke.ipynb",
      "provenance": [],
      "include_colab_link": true
    }
  },
  "cells": [
    {
      "cell_type": "markdown",
      "metadata": {
        "id": "view-in-github",
        "colab_type": "text"
      },
      "source": [
        "<a href=\"https://colab.research.google.com/github/mariferdamian/TC1002/blob/master/k_means_smoke.ipynb\" target=\"_parent\"><img src=\"https://colab.research.google.com/assets/colab-badge.svg\" alt=\"Open In Colab\"/></a>"
      ]
    },
    {
      "cell_type": "code",
      "metadata": {
        "id": "TpWCUtvqamMk"
      },
      "source": [
        "import pandas as pd\n",
        "import numpy as np\n",
        "import matplotlib.pylab as plt"
      ],
      "execution_count": 3,
      "outputs": []
    },
    {
      "cell_type": "code",
      "metadata": {
        "colab": {
          "base_uri": "https://localhost:8080/"
        },
        "id": "MZX3MnQfGTsV",
        "outputId": "2109aab7-b472-4f78-f522-f0c58710624a"
      },
      "source": [
        "from google.colab import drive\n",
        "drive.mount('/content/drive')"
      ],
      "execution_count": 1,
      "outputs": [
        {
          "output_type": "stream",
          "text": [
            "Mounted at /content/drive\n"
          ],
          "name": "stdout"
        }
      ]
    },
    {
      "cell_type": "code",
      "metadata": {
        "id": "ymS-j30UamMm"
      },
      "source": [
        "# Cargar el archivo de datos en un DataFrame de Pandas\n",
        "df = pd.read_csv('/content/drive/MyDrive/TC1002S/Child smokers.csv')"
      ],
      "execution_count": 19,
      "outputs": []
    },
    {
      "cell_type": "code",
      "metadata": {
        "colab": {
          "base_uri": "https://localhost:8080/",
          "height": 419
        },
        "id": "RKXhcBFmamMn",
        "outputId": "1d63e6c8-e5ba-4e36-b368-bd5c46067280"
      },
      "source": [
        "# Mostrar el DataFrame\n",
        "df"
      ],
      "execution_count": 20,
      "outputs": [
        {
          "output_type": "execute_result",
          "data": {
            "text/html": [
              "<div>\n",
              "<style scoped>\n",
              "    .dataframe tbody tr th:only-of-type {\n",
              "        vertical-align: middle;\n",
              "    }\n",
              "\n",
              "    .dataframe tbody tr th {\n",
              "        vertical-align: top;\n",
              "    }\n",
              "\n",
              "    .dataframe thead th {\n",
              "        text-align: right;\n",
              "    }\n",
              "</style>\n",
              "<table border=\"1\" class=\"dataframe\">\n",
              "  <thead>\n",
              "    <tr style=\"text-align: right;\">\n",
              "      <th></th>\n",
              "      <th>Age (years)</th>\n",
              "      <th>Height (cm)</th>\n",
              "      <th>FEV (litres)</th>\n",
              "      <th>Sex</th>\n",
              "      <th>Smoker</th>\n",
              "    </tr>\n",
              "  </thead>\n",
              "  <tbody>\n",
              "    <tr>\n",
              "      <th>0</th>\n",
              "      <td>9</td>\n",
              "      <td>145</td>\n",
              "      <td>1.708</td>\n",
              "      <td>female</td>\n",
              "      <td>non</td>\n",
              "    </tr>\n",
              "    <tr>\n",
              "      <th>1</th>\n",
              "      <td>8</td>\n",
              "      <td>171</td>\n",
              "      <td>1.724</td>\n",
              "      <td>female</td>\n",
              "      <td>non</td>\n",
              "    </tr>\n",
              "    <tr>\n",
              "      <th>2</th>\n",
              "      <td>7</td>\n",
              "      <td>138</td>\n",
              "      <td>1.720</td>\n",
              "      <td>female</td>\n",
              "      <td>non</td>\n",
              "    </tr>\n",
              "    <tr>\n",
              "      <th>3</th>\n",
              "      <td>9</td>\n",
              "      <td>135</td>\n",
              "      <td>1.558</td>\n",
              "      <td>male</td>\n",
              "      <td>non</td>\n",
              "    </tr>\n",
              "    <tr>\n",
              "      <th>4</th>\n",
              "      <td>9</td>\n",
              "      <td>145</td>\n",
              "      <td>1.895</td>\n",
              "      <td>male</td>\n",
              "      <td>non</td>\n",
              "    </tr>\n",
              "    <tr>\n",
              "      <th>...</th>\n",
              "      <td>...</td>\n",
              "      <td>...</td>\n",
              "      <td>...</td>\n",
              "      <td>...</td>\n",
              "      <td>...</td>\n",
              "    </tr>\n",
              "    <tr>\n",
              "      <th>649</th>\n",
              "      <td>15</td>\n",
              "      <td>152</td>\n",
              "      <td>2.278</td>\n",
              "      <td>female</td>\n",
              "      <td>smoker</td>\n",
              "    </tr>\n",
              "    <tr>\n",
              "      <th>650</th>\n",
              "      <td>16</td>\n",
              "      <td>183</td>\n",
              "      <td>4.872</td>\n",
              "      <td>male</td>\n",
              "      <td>smoker</td>\n",
              "    </tr>\n",
              "    <tr>\n",
              "      <th>651</th>\n",
              "      <td>16</td>\n",
              "      <td>170</td>\n",
              "      <td>4.270</td>\n",
              "      <td>male</td>\n",
              "      <td>smoker</td>\n",
              "    </tr>\n",
              "    <tr>\n",
              "      <th>652</th>\n",
              "      <td>15</td>\n",
              "      <td>173</td>\n",
              "      <td>3.727</td>\n",
              "      <td>male</td>\n",
              "      <td>smoker</td>\n",
              "    </tr>\n",
              "    <tr>\n",
              "      <th>653</th>\n",
              "      <td>16</td>\n",
              "      <td>160</td>\n",
              "      <td>2.795</td>\n",
              "      <td>female</td>\n",
              "      <td>smoker</td>\n",
              "    </tr>\n",
              "  </tbody>\n",
              "</table>\n",
              "<p>654 rows × 5 columns</p>\n",
              "</div>"
            ],
            "text/plain": [
              "     Age (years)  Height (cm)  FEV (litres)     Sex  Smoker\n",
              "0              9          145         1.708  female     non\n",
              "1              8          171         1.724  female     non\n",
              "2              7          138         1.720  female     non\n",
              "3              9          135         1.558    male     non\n",
              "4              9          145         1.895    male     non\n",
              "..           ...          ...           ...     ...     ...\n",
              "649           15          152         2.278  female  smoker\n",
              "650           16          183         4.872    male  smoker\n",
              "651           16          170         4.270    male  smoker\n",
              "652           15          173         3.727    male  smoker\n",
              "653           16          160         2.795  female  smoker\n",
              "\n",
              "[654 rows x 5 columns]"
            ]
          },
          "metadata": {
            "tags": []
          },
          "execution_count": 20
        }
      ]
    },
    {
      "cell_type": "code",
      "metadata": {
        "id": "NkDRI08tamMn"
      },
      "source": [
        "print(df)"
      ],
      "execution_count": null,
      "outputs": []
    },
    {
      "cell_type": "code",
      "metadata": {
        "colab": {
          "base_uri": "https://localhost:8080/"
        },
        "id": "wsIfndvkamMo",
        "outputId": "89fb3b4c-f1b1-4d04-d841-0a76cc5f3bed"
      },
      "source": [
        "# Concoer el tamaño del DataFrame\n",
        "df.shape"
      ],
      "execution_count": 21,
      "outputs": [
        {
          "output_type": "execute_result",
          "data": {
            "text/plain": [
              "(654, 5)"
            ]
          },
          "metadata": {
            "tags": []
          },
          "execution_count": 21
        }
      ]
    },
    {
      "cell_type": "code",
      "metadata": {
        "colab": {
          "base_uri": "https://localhost:8080/"
        },
        "id": "j3zco045amMo",
        "outputId": "e7b6ba70-1ebe-4ecb-b50f-b530e11932c1"
      },
      "source": [
        "# Conocer las columnas del DataFrame\n",
        "df.columns"
      ],
      "execution_count": 22,
      "outputs": [
        {
          "output_type": "execute_result",
          "data": {
            "text/plain": [
              "Index(['Age (years)', 'Height (cm)', 'FEV (litres)', 'Sex', 'Smoker'], dtype='object')"
            ]
          },
          "metadata": {
            "tags": []
          },
          "execution_count": 22
        }
      ]
    },
    {
      "cell_type": "code",
      "metadata": {
        "colab": {
          "base_uri": "https://localhost:8080/"
        },
        "id": "3cih9hqWamMo",
        "outputId": "d55f677e-9eb0-4739-f17a-bbbe4c36734e"
      },
      "source": [
        "# Concoer los tipos de datos del DataFrame\n",
        "df.dtypes"
      ],
      "execution_count": 23,
      "outputs": [
        {
          "output_type": "execute_result",
          "data": {
            "text/plain": [
              "Age (years)       int64\n",
              "Height (cm)       int64\n",
              "FEV (litres)    float64\n",
              "Sex              object\n",
              "Smoker           object\n",
              "dtype: object"
            ]
          },
          "metadata": {
            "tags": []
          },
          "execution_count": 23
        }
      ]
    },
    {
      "cell_type": "code",
      "metadata": {
        "colab": {
          "base_uri": "https://localhost:8080/",
          "height": 419
        },
        "id": "ZULuY3Buq-oO",
        "outputId": "fc5136c8-2cd3-46e6-b5e1-134a663ad770"
      },
      "source": [
        "# Convertir valores categoricos a numéricos\n",
        "df['Sex'] = df['Sex'].astype('category').cat.codes\n",
        "df['Smoker'] = df['Smoker'].astype('category').cat.codes\n",
        "df"
      ],
      "execution_count": 28,
      "outputs": [
        {
          "output_type": "execute_result",
          "data": {
            "text/html": [
              "<div>\n",
              "<style scoped>\n",
              "    .dataframe tbody tr th:only-of-type {\n",
              "        vertical-align: middle;\n",
              "    }\n",
              "\n",
              "    .dataframe tbody tr th {\n",
              "        vertical-align: top;\n",
              "    }\n",
              "\n",
              "    .dataframe thead th {\n",
              "        text-align: right;\n",
              "    }\n",
              "</style>\n",
              "<table border=\"1\" class=\"dataframe\">\n",
              "  <thead>\n",
              "    <tr style=\"text-align: right;\">\n",
              "      <th></th>\n",
              "      <th>Age (years)</th>\n",
              "      <th>Height (cm)</th>\n",
              "      <th>FEV (litres)</th>\n",
              "      <th>Sex</th>\n",
              "      <th>Smoker</th>\n",
              "    </tr>\n",
              "  </thead>\n",
              "  <tbody>\n",
              "    <tr>\n",
              "      <th>0</th>\n",
              "      <td>9</td>\n",
              "      <td>145</td>\n",
              "      <td>1.708</td>\n",
              "      <td>0</td>\n",
              "      <td>0</td>\n",
              "    </tr>\n",
              "    <tr>\n",
              "      <th>1</th>\n",
              "      <td>8</td>\n",
              "      <td>171</td>\n",
              "      <td>1.724</td>\n",
              "      <td>0</td>\n",
              "      <td>0</td>\n",
              "    </tr>\n",
              "    <tr>\n",
              "      <th>2</th>\n",
              "      <td>7</td>\n",
              "      <td>138</td>\n",
              "      <td>1.720</td>\n",
              "      <td>0</td>\n",
              "      <td>0</td>\n",
              "    </tr>\n",
              "    <tr>\n",
              "      <th>3</th>\n",
              "      <td>9</td>\n",
              "      <td>135</td>\n",
              "      <td>1.558</td>\n",
              "      <td>1</td>\n",
              "      <td>0</td>\n",
              "    </tr>\n",
              "    <tr>\n",
              "      <th>4</th>\n",
              "      <td>9</td>\n",
              "      <td>145</td>\n",
              "      <td>1.895</td>\n",
              "      <td>1</td>\n",
              "      <td>0</td>\n",
              "    </tr>\n",
              "    <tr>\n",
              "      <th>...</th>\n",
              "      <td>...</td>\n",
              "      <td>...</td>\n",
              "      <td>...</td>\n",
              "      <td>...</td>\n",
              "      <td>...</td>\n",
              "    </tr>\n",
              "    <tr>\n",
              "      <th>649</th>\n",
              "      <td>15</td>\n",
              "      <td>152</td>\n",
              "      <td>2.278</td>\n",
              "      <td>0</td>\n",
              "      <td>1</td>\n",
              "    </tr>\n",
              "    <tr>\n",
              "      <th>650</th>\n",
              "      <td>16</td>\n",
              "      <td>183</td>\n",
              "      <td>4.872</td>\n",
              "      <td>1</td>\n",
              "      <td>1</td>\n",
              "    </tr>\n",
              "    <tr>\n",
              "      <th>651</th>\n",
              "      <td>16</td>\n",
              "      <td>170</td>\n",
              "      <td>4.270</td>\n",
              "      <td>1</td>\n",
              "      <td>1</td>\n",
              "    </tr>\n",
              "    <tr>\n",
              "      <th>652</th>\n",
              "      <td>15</td>\n",
              "      <td>173</td>\n",
              "      <td>3.727</td>\n",
              "      <td>1</td>\n",
              "      <td>1</td>\n",
              "    </tr>\n",
              "    <tr>\n",
              "      <th>653</th>\n",
              "      <td>16</td>\n",
              "      <td>160</td>\n",
              "      <td>2.795</td>\n",
              "      <td>0</td>\n",
              "      <td>1</td>\n",
              "    </tr>\n",
              "  </tbody>\n",
              "</table>\n",
              "<p>654 rows × 5 columns</p>\n",
              "</div>"
            ],
            "text/plain": [
              "     Age (years)  Height (cm)  FEV (litres)  Sex  Smoker\n",
              "0              9          145         1.708    0       0\n",
              "1              8          171         1.724    0       0\n",
              "2              7          138         1.720    0       0\n",
              "3              9          135         1.558    1       0\n",
              "4              9          145         1.895    1       0\n",
              "..           ...          ...           ...  ...     ...\n",
              "649           15          152         2.278    0       1\n",
              "650           16          183         4.872    1       1\n",
              "651           16          170         4.270    1       1\n",
              "652           15          173         3.727    1       1\n",
              "653           16          160         2.795    0       1\n",
              "\n",
              "[654 rows x 5 columns]"
            ]
          },
          "metadata": {
            "tags": []
          },
          "execution_count": 28
        }
      ]
    },
    {
      "cell_type": "code",
      "metadata": {
        "colab": {
          "base_uri": "https://localhost:8080/",
          "height": 297
        },
        "id": "nbQRXbkTamMo",
        "outputId": "d0529a60-7c7c-4989-b0e7-ce3d5dc6e5db"
      },
      "source": [
        "# Obtener información básica de los datos\n",
        "df.describe()"
      ],
      "execution_count": 29,
      "outputs": [
        {
          "output_type": "execute_result",
          "data": {
            "text/html": [
              "<div>\n",
              "<style scoped>\n",
              "    .dataframe tbody tr th:only-of-type {\n",
              "        vertical-align: middle;\n",
              "    }\n",
              "\n",
              "    .dataframe tbody tr th {\n",
              "        vertical-align: top;\n",
              "    }\n",
              "\n",
              "    .dataframe thead th {\n",
              "        text-align: right;\n",
              "    }\n",
              "</style>\n",
              "<table border=\"1\" class=\"dataframe\">\n",
              "  <thead>\n",
              "    <tr style=\"text-align: right;\">\n",
              "      <th></th>\n",
              "      <th>Age (years)</th>\n",
              "      <th>Height (cm)</th>\n",
              "      <th>FEV (litres)</th>\n",
              "      <th>Sex</th>\n",
              "      <th>Smoker</th>\n",
              "    </tr>\n",
              "  </thead>\n",
              "  <tbody>\n",
              "    <tr>\n",
              "      <th>count</th>\n",
              "      <td>654.000000</td>\n",
              "      <td>654.000000</td>\n",
              "      <td>654.000000</td>\n",
              "      <td>654.000000</td>\n",
              "      <td>654.000000</td>\n",
              "    </tr>\n",
              "    <tr>\n",
              "      <th>mean</th>\n",
              "      <td>9.931193</td>\n",
              "      <td>155.298165</td>\n",
              "      <td>2.636780</td>\n",
              "      <td>0.513761</td>\n",
              "      <td>0.099388</td>\n",
              "    </tr>\n",
              "    <tr>\n",
              "      <th>std</th>\n",
              "      <td>2.953935</td>\n",
              "      <td>14.471647</td>\n",
              "      <td>0.867059</td>\n",
              "      <td>0.500193</td>\n",
              "      <td>0.299412</td>\n",
              "    </tr>\n",
              "    <tr>\n",
              "      <th>min</th>\n",
              "      <td>3.000000</td>\n",
              "      <td>117.000000</td>\n",
              "      <td>0.791000</td>\n",
              "      <td>0.000000</td>\n",
              "      <td>0.000000</td>\n",
              "    </tr>\n",
              "    <tr>\n",
              "      <th>25%</th>\n",
              "      <td>8.000000</td>\n",
              "      <td>145.000000</td>\n",
              "      <td>1.981000</td>\n",
              "      <td>0.000000</td>\n",
              "      <td>0.000000</td>\n",
              "    </tr>\n",
              "    <tr>\n",
              "      <th>50%</th>\n",
              "      <td>10.000000</td>\n",
              "      <td>156.000000</td>\n",
              "      <td>2.547500</td>\n",
              "      <td>1.000000</td>\n",
              "      <td>0.000000</td>\n",
              "    </tr>\n",
              "    <tr>\n",
              "      <th>75%</th>\n",
              "      <td>12.000000</td>\n",
              "      <td>166.000000</td>\n",
              "      <td>3.118500</td>\n",
              "      <td>1.000000</td>\n",
              "      <td>0.000000</td>\n",
              "    </tr>\n",
              "    <tr>\n",
              "      <th>max</th>\n",
              "      <td>19.000000</td>\n",
              "      <td>188.000000</td>\n",
              "      <td>5.793000</td>\n",
              "      <td>1.000000</td>\n",
              "      <td>1.000000</td>\n",
              "    </tr>\n",
              "  </tbody>\n",
              "</table>\n",
              "</div>"
            ],
            "text/plain": [
              "       Age (years)  Height (cm)  FEV (litres)         Sex      Smoker\n",
              "count   654.000000   654.000000    654.000000  654.000000  654.000000\n",
              "mean      9.931193   155.298165      2.636780    0.513761    0.099388\n",
              "std       2.953935    14.471647      0.867059    0.500193    0.299412\n",
              "min       3.000000   117.000000      0.791000    0.000000    0.000000\n",
              "25%       8.000000   145.000000      1.981000    0.000000    0.000000\n",
              "50%      10.000000   156.000000      2.547500    1.000000    0.000000\n",
              "75%      12.000000   166.000000      3.118500    1.000000    0.000000\n",
              "max      19.000000   188.000000      5.793000    1.000000    1.000000"
            ]
          },
          "metadata": {
            "tags": []
          },
          "execution_count": 29
        }
      ]
    },
    {
      "cell_type": "code",
      "metadata": {
        "colab": {
          "base_uri": "https://localhost:8080/",
          "height": 297
        },
        "id": "z7XZ-kYeamMp",
        "outputId": "a7d78a55-c943-4332-833f-91b2a01bfb74"
      },
      "source": [
        "# Obtener descripciones de datos no numéricos\n",
        "df.describe(include='all')"
      ],
      "execution_count": 30,
      "outputs": [
        {
          "output_type": "execute_result",
          "data": {
            "text/html": [
              "<div>\n",
              "<style scoped>\n",
              "    .dataframe tbody tr th:only-of-type {\n",
              "        vertical-align: middle;\n",
              "    }\n",
              "\n",
              "    .dataframe tbody tr th {\n",
              "        vertical-align: top;\n",
              "    }\n",
              "\n",
              "    .dataframe thead th {\n",
              "        text-align: right;\n",
              "    }\n",
              "</style>\n",
              "<table border=\"1\" class=\"dataframe\">\n",
              "  <thead>\n",
              "    <tr style=\"text-align: right;\">\n",
              "      <th></th>\n",
              "      <th>Age (years)</th>\n",
              "      <th>Height (cm)</th>\n",
              "      <th>FEV (litres)</th>\n",
              "      <th>Sex</th>\n",
              "      <th>Smoker</th>\n",
              "    </tr>\n",
              "  </thead>\n",
              "  <tbody>\n",
              "    <tr>\n",
              "      <th>count</th>\n",
              "      <td>654.000000</td>\n",
              "      <td>654.000000</td>\n",
              "      <td>654.000000</td>\n",
              "      <td>654.000000</td>\n",
              "      <td>654.000000</td>\n",
              "    </tr>\n",
              "    <tr>\n",
              "      <th>mean</th>\n",
              "      <td>9.931193</td>\n",
              "      <td>155.298165</td>\n",
              "      <td>2.636780</td>\n",
              "      <td>0.513761</td>\n",
              "      <td>0.099388</td>\n",
              "    </tr>\n",
              "    <tr>\n",
              "      <th>std</th>\n",
              "      <td>2.953935</td>\n",
              "      <td>14.471647</td>\n",
              "      <td>0.867059</td>\n",
              "      <td>0.500193</td>\n",
              "      <td>0.299412</td>\n",
              "    </tr>\n",
              "    <tr>\n",
              "      <th>min</th>\n",
              "      <td>3.000000</td>\n",
              "      <td>117.000000</td>\n",
              "      <td>0.791000</td>\n",
              "      <td>0.000000</td>\n",
              "      <td>0.000000</td>\n",
              "    </tr>\n",
              "    <tr>\n",
              "      <th>25%</th>\n",
              "      <td>8.000000</td>\n",
              "      <td>145.000000</td>\n",
              "      <td>1.981000</td>\n",
              "      <td>0.000000</td>\n",
              "      <td>0.000000</td>\n",
              "    </tr>\n",
              "    <tr>\n",
              "      <th>50%</th>\n",
              "      <td>10.000000</td>\n",
              "      <td>156.000000</td>\n",
              "      <td>2.547500</td>\n",
              "      <td>1.000000</td>\n",
              "      <td>0.000000</td>\n",
              "    </tr>\n",
              "    <tr>\n",
              "      <th>75%</th>\n",
              "      <td>12.000000</td>\n",
              "      <td>166.000000</td>\n",
              "      <td>3.118500</td>\n",
              "      <td>1.000000</td>\n",
              "      <td>0.000000</td>\n",
              "    </tr>\n",
              "    <tr>\n",
              "      <th>max</th>\n",
              "      <td>19.000000</td>\n",
              "      <td>188.000000</td>\n",
              "      <td>5.793000</td>\n",
              "      <td>1.000000</td>\n",
              "      <td>1.000000</td>\n",
              "    </tr>\n",
              "  </tbody>\n",
              "</table>\n",
              "</div>"
            ],
            "text/plain": [
              "       Age (years)  Height (cm)  FEV (litres)         Sex      Smoker\n",
              "count   654.000000   654.000000    654.000000  654.000000  654.000000\n",
              "mean      9.931193   155.298165      2.636780    0.513761    0.099388\n",
              "std       2.953935    14.471647      0.867059    0.500193    0.299412\n",
              "min       3.000000   117.000000      0.791000    0.000000    0.000000\n",
              "25%       8.000000   145.000000      1.981000    0.000000    0.000000\n",
              "50%      10.000000   156.000000      2.547500    1.000000    0.000000\n",
              "75%      12.000000   166.000000      3.118500    1.000000    0.000000\n",
              "max      19.000000   188.000000      5.793000    1.000000    1.000000"
            ]
          },
          "metadata": {
            "tags": []
          },
          "execution_count": 30
        }
      ]
    },
    {
      "cell_type": "code",
      "metadata": {
        "colab": {
          "base_uri": "https://localhost:8080/"
        },
        "id": "ejN0ObfeamMp",
        "outputId": "00f35556-b463-457e-af43-6b34999a7beb"
      },
      "source": [
        "# Eliminar filas con valores perdidos\n",
        "df = df.dropna()\n",
        "df.shape"
      ],
      "execution_count": 31,
      "outputs": [
        {
          "output_type": "execute_result",
          "data": {
            "text/plain": [
              "(654, 5)"
            ]
          },
          "metadata": {
            "tags": []
          },
          "execution_count": 31
        }
      ]
    },
    {
      "cell_type": "code",
      "metadata": {
        "colab": {
          "base_uri": "https://localhost:8080/"
        },
        "id": "PCxiRXBErfGz",
        "outputId": "e37c70d1-dc0e-4b9a-a645-c5ce883859cf"
      },
      "source": [
        "print (\"Min en Age (years):\", df['Age (years)'].min())\n",
        "print (\"Min en Height (cm):\", df['Height (cm)'].min())\n",
        "print (\"Min en FEV (litres):\", df['FEV (litres)'].min())\n",
        "print (\"MIN en Sex:\", df['Sex'].min())\n",
        "print (\"MIN en Smoker:\", df['Smoker'].min())"
      ],
      "execution_count": 33,
      "outputs": [
        {
          "output_type": "stream",
          "text": [
            "Min en Age (years): 3\n",
            "Min en Height (cm): 117\n",
            "Min en FEV (litres): 0.7909999999999999\n",
            "MIN en Sex: 0\n",
            "MIN en Smoker: 0\n"
          ],
          "name": "stdout"
        }
      ]
    },
    {
      "cell_type": "code",
      "metadata": {
        "id": "Bb8bo0u4amMq"
      },
      "source": [
        "# Guardar el DataFrame en un archivo\n",
        "df.to_csv('./trabajo final.csv', index=False)"
      ],
      "execution_count": null,
      "outputs": []
    },
    {
      "cell_type": "code",
      "metadata": {
        "id": "rqBF962bamMq"
      },
      "source": [
        "# Función que recibe un DataFrame, una proporción y el nombre de la clase,\n",
        "# y genera cuatro conjuntos de datos para entrenamiento\n",
        "# y pruebas del algoritmo de aprendizaje\n",
        "from sklearn.model_selection import train_test_split\n",
        "\n",
        "def split_label(pace, test_size, label):\n",
        "    train, test = train_test_split(df, test_size=test_size)\n",
        "    features = df.columns.drop(label)\n",
        "    train_X = train[features]\n",
        "    train_Y = train[label]\n",
        "    test_X = test[features]\n",
        "    test_Y = test[label]\n",
        "    return train_X, train_Y, test_X, test_Y"
      ],
      "execution_count": 35,
      "outputs": []
    },
    {
      "cell_type": "code",
      "metadata": {
        "id": "RwLBGw5namMq"
      },
      "source": [
        "# Dividir el conjunto de datos \n",
        "train_X, train_Y, test_X, test_Y = split_label(df, 0.2, 'Smoker')"
      ],
      "execution_count": 36,
      "outputs": []
    },
    {
      "cell_type": "code",
      "metadata": {
        "colab": {
          "base_uri": "https://localhost:8080/",
          "height": 419
        },
        "id": "ZR0s07YiamMq",
        "outputId": "c66c4f3c-bedd-4b58-df39-c9dc8648f63b"
      },
      "source": [
        "# Aplicar one hot encoding a la columna \n",
        "from sklearn.preprocessing import OneHotEncoder\n",
        "\n",
        "one = OneHotEncoder(handle_unknown='ignore')\n",
        "\n",
        "result = one.fit_transform(train_X['Sex'].values.reshape(-1,1)).toarray()\n",
        "train_X_1 = train_X\n",
        "train_X_1[['0', '1']] = pd.DataFrame(result, index = train_X_1.index)\n",
        "train_X_1"
      ],
      "execution_count": 37,
      "outputs": [
        {
          "output_type": "execute_result",
          "data": {
            "text/html": [
              "<div>\n",
              "<style scoped>\n",
              "    .dataframe tbody tr th:only-of-type {\n",
              "        vertical-align: middle;\n",
              "    }\n",
              "\n",
              "    .dataframe tbody tr th {\n",
              "        vertical-align: top;\n",
              "    }\n",
              "\n",
              "    .dataframe thead th {\n",
              "        text-align: right;\n",
              "    }\n",
              "</style>\n",
              "<table border=\"1\" class=\"dataframe\">\n",
              "  <thead>\n",
              "    <tr style=\"text-align: right;\">\n",
              "      <th></th>\n",
              "      <th>Age (years)</th>\n",
              "      <th>Height (cm)</th>\n",
              "      <th>FEV (litres)</th>\n",
              "      <th>Sex</th>\n",
              "      <th>0</th>\n",
              "      <th>1</th>\n",
              "    </tr>\n",
              "  </thead>\n",
              "  <tbody>\n",
              "    <tr>\n",
              "      <th>206</th>\n",
              "      <td>9</td>\n",
              "      <td>152</td>\n",
              "      <td>2.455</td>\n",
              "      <td>0</td>\n",
              "      <td>1.0</td>\n",
              "      <td>0.0</td>\n",
              "    </tr>\n",
              "    <tr>\n",
              "      <th>512</th>\n",
              "      <td>13</td>\n",
              "      <td>160</td>\n",
              "      <td>2.449</td>\n",
              "      <td>0</td>\n",
              "      <td>1.0</td>\n",
              "      <td>0.0</td>\n",
              "    </tr>\n",
              "    <tr>\n",
              "      <th>310</th>\n",
              "      <td>14</td>\n",
              "      <td>160</td>\n",
              "      <td>3.381</td>\n",
              "      <td>1</td>\n",
              "      <td>0.0</td>\n",
              "      <td>1.0</td>\n",
              "    </tr>\n",
              "    <tr>\n",
              "      <th>389</th>\n",
              "      <td>11</td>\n",
              "      <td>159</td>\n",
              "      <td>2.735</td>\n",
              "      <td>0</td>\n",
              "      <td>1.0</td>\n",
              "      <td>0.0</td>\n",
              "    </tr>\n",
              "    <tr>\n",
              "      <th>36</th>\n",
              "      <td>9</td>\n",
              "      <td>150</td>\n",
              "      <td>2.725</td>\n",
              "      <td>1</td>\n",
              "      <td>0.0</td>\n",
              "      <td>1.0</td>\n",
              "    </tr>\n",
              "    <tr>\n",
              "      <th>...</th>\n",
              "      <td>...</td>\n",
              "      <td>...</td>\n",
              "      <td>...</td>\n",
              "      <td>...</td>\n",
              "      <td>...</td>\n",
              "      <td>...</td>\n",
              "    </tr>\n",
              "    <tr>\n",
              "      <th>54</th>\n",
              "      <td>6</td>\n",
              "      <td>137</td>\n",
              "      <td>1.634</td>\n",
              "      <td>1</td>\n",
              "      <td>0.0</td>\n",
              "      <td>1.0</td>\n",
              "    </tr>\n",
              "    <tr>\n",
              "      <th>46</th>\n",
              "      <td>7</td>\n",
              "      <td>137</td>\n",
              "      <td>1.624</td>\n",
              "      <td>1</td>\n",
              "      <td>0.0</td>\n",
              "      <td>1.0</td>\n",
              "    </tr>\n",
              "    <tr>\n",
              "      <th>544</th>\n",
              "      <td>12</td>\n",
              "      <td>161</td>\n",
              "      <td>3.001</td>\n",
              "      <td>0</td>\n",
              "      <td>1.0</td>\n",
              "      <td>0.0</td>\n",
              "    </tr>\n",
              "    <tr>\n",
              "      <th>131</th>\n",
              "      <td>8</td>\n",
              "      <td>146</td>\n",
              "      <td>1.429</td>\n",
              "      <td>1</td>\n",
              "      <td>0.0</td>\n",
              "      <td>1.0</td>\n",
              "    </tr>\n",
              "    <tr>\n",
              "      <th>503</th>\n",
              "      <td>12</td>\n",
              "      <td>160</td>\n",
              "      <td>2.569</td>\n",
              "      <td>0</td>\n",
              "      <td>1.0</td>\n",
              "      <td>0.0</td>\n",
              "    </tr>\n",
              "  </tbody>\n",
              "</table>\n",
              "<p>523 rows × 6 columns</p>\n",
              "</div>"
            ],
            "text/plain": [
              "     Age (years)  Height (cm)  FEV (litres)  Sex    0    1\n",
              "206            9          152         2.455    0  1.0  0.0\n",
              "512           13          160         2.449    0  1.0  0.0\n",
              "310           14          160         3.381    1  0.0  1.0\n",
              "389           11          159         2.735    0  1.0  0.0\n",
              "36             9          150         2.725    1  0.0  1.0\n",
              "..           ...          ...           ...  ...  ...  ...\n",
              "54             6          137         1.634    1  0.0  1.0\n",
              "46             7          137         1.624    1  0.0  1.0\n",
              "544           12          161         3.001    0  1.0  0.0\n",
              "131            8          146         1.429    1  0.0  1.0\n",
              "503           12          160         2.569    0  1.0  0.0\n",
              "\n",
              "[523 rows x 6 columns]"
            ]
          },
          "metadata": {
            "tags": []
          },
          "execution_count": 37
        }
      ]
    },
    {
      "cell_type": "code",
      "metadata": {
        "colab": {
          "base_uri": "https://localhost:8080/",
          "height": 419
        },
        "id": "qz8T15wuamMr",
        "outputId": "3d176824-1333-4611-9835-de5c915bb713"
      },
      "source": [
        "# Aplicar escalamiento [0,1] a todos los valores\n",
        "from sklearn.preprocessing import MinMaxScaler\n",
        "min_max = MinMaxScaler()\n",
        "train_X_2 = min_max.fit_transform(train_X_1.values)\n",
        "train_X_2 = pd.DataFrame(train_X_2, columns=train_X_1.columns)\n",
        "train_X_2"
      ],
      "execution_count": 38,
      "outputs": [
        {
          "output_type": "execute_result",
          "data": {
            "text/html": [
              "<div>\n",
              "<style scoped>\n",
              "    .dataframe tbody tr th:only-of-type {\n",
              "        vertical-align: middle;\n",
              "    }\n",
              "\n",
              "    .dataframe tbody tr th {\n",
              "        vertical-align: top;\n",
              "    }\n",
              "\n",
              "    .dataframe thead th {\n",
              "        text-align: right;\n",
              "    }\n",
              "</style>\n",
              "<table border=\"1\" class=\"dataframe\">\n",
              "  <thead>\n",
              "    <tr style=\"text-align: right;\">\n",
              "      <th></th>\n",
              "      <th>Age (years)</th>\n",
              "      <th>Height (cm)</th>\n",
              "      <th>FEV (litres)</th>\n",
              "      <th>Sex</th>\n",
              "      <th>0</th>\n",
              "      <th>1</th>\n",
              "    </tr>\n",
              "  </thead>\n",
              "  <tbody>\n",
              "    <tr>\n",
              "      <th>0</th>\n",
              "      <td>0.3750</td>\n",
              "      <td>0.492958</td>\n",
              "      <td>0.326201</td>\n",
              "      <td>0.0</td>\n",
              "      <td>1.0</td>\n",
              "      <td>0.0</td>\n",
              "    </tr>\n",
              "    <tr>\n",
              "      <th>1</th>\n",
              "      <td>0.6250</td>\n",
              "      <td>0.605634</td>\n",
              "      <td>0.324990</td>\n",
              "      <td>0.0</td>\n",
              "      <td>1.0</td>\n",
              "      <td>0.0</td>\n",
              "    </tr>\n",
              "    <tr>\n",
              "      <th>2</th>\n",
              "      <td>0.6875</td>\n",
              "      <td>0.605634</td>\n",
              "      <td>0.513121</td>\n",
              "      <td>1.0</td>\n",
              "      <td>0.0</td>\n",
              "      <td>1.0</td>\n",
              "    </tr>\n",
              "    <tr>\n",
              "      <th>3</th>\n",
              "      <td>0.5000</td>\n",
              "      <td>0.591549</td>\n",
              "      <td>0.382721</td>\n",
              "      <td>0.0</td>\n",
              "      <td>1.0</td>\n",
              "      <td>0.0</td>\n",
              "    </tr>\n",
              "    <tr>\n",
              "      <th>4</th>\n",
              "      <td>0.3750</td>\n",
              "      <td>0.464789</td>\n",
              "      <td>0.380702</td>\n",
              "      <td>1.0</td>\n",
              "      <td>0.0</td>\n",
              "      <td>1.0</td>\n",
              "    </tr>\n",
              "    <tr>\n",
              "      <th>...</th>\n",
              "      <td>...</td>\n",
              "      <td>...</td>\n",
              "      <td>...</td>\n",
              "      <td>...</td>\n",
              "      <td>...</td>\n",
              "      <td>...</td>\n",
              "    </tr>\n",
              "    <tr>\n",
              "      <th>518</th>\n",
              "      <td>0.1875</td>\n",
              "      <td>0.281690</td>\n",
              "      <td>0.160476</td>\n",
              "      <td>1.0</td>\n",
              "      <td>0.0</td>\n",
              "      <td>1.0</td>\n",
              "    </tr>\n",
              "    <tr>\n",
              "      <th>519</th>\n",
              "      <td>0.2500</td>\n",
              "      <td>0.281690</td>\n",
              "      <td>0.158458</td>\n",
              "      <td>1.0</td>\n",
              "      <td>0.0</td>\n",
              "      <td>1.0</td>\n",
              "    </tr>\n",
              "    <tr>\n",
              "      <th>520</th>\n",
              "      <td>0.5625</td>\n",
              "      <td>0.619718</td>\n",
              "      <td>0.436415</td>\n",
              "      <td>0.0</td>\n",
              "      <td>1.0</td>\n",
              "      <td>0.0</td>\n",
              "    </tr>\n",
              "    <tr>\n",
              "      <th>521</th>\n",
              "      <td>0.3125</td>\n",
              "      <td>0.408451</td>\n",
              "      <td>0.119096</td>\n",
              "      <td>1.0</td>\n",
              "      <td>0.0</td>\n",
              "      <td>1.0</td>\n",
              "    </tr>\n",
              "    <tr>\n",
              "      <th>522</th>\n",
              "      <td>0.5625</td>\n",
              "      <td>0.605634</td>\n",
              "      <td>0.349213</td>\n",
              "      <td>0.0</td>\n",
              "      <td>1.0</td>\n",
              "      <td>0.0</td>\n",
              "    </tr>\n",
              "  </tbody>\n",
              "</table>\n",
              "<p>523 rows × 6 columns</p>\n",
              "</div>"
            ],
            "text/plain": [
              "     Age (years)  Height (cm)  FEV (litres)  Sex    0    1\n",
              "0         0.3750     0.492958      0.326201  0.0  1.0  0.0\n",
              "1         0.6250     0.605634      0.324990  0.0  1.0  0.0\n",
              "2         0.6875     0.605634      0.513121  1.0  0.0  1.0\n",
              "3         0.5000     0.591549      0.382721  0.0  1.0  0.0\n",
              "4         0.3750     0.464789      0.380702  1.0  0.0  1.0\n",
              "..           ...          ...           ...  ...  ...  ...\n",
              "518       0.1875     0.281690      0.160476  1.0  0.0  1.0\n",
              "519       0.2500     0.281690      0.158458  1.0  0.0  1.0\n",
              "520       0.5625     0.619718      0.436415  0.0  1.0  0.0\n",
              "521       0.3125     0.408451      0.119096  1.0  0.0  1.0\n",
              "522       0.5625     0.605634      0.349213  0.0  1.0  0.0\n",
              "\n",
              "[523 rows x 6 columns]"
            ]
          },
          "metadata": {
            "tags": []
          },
          "execution_count": 38
        }
      ]
    },
    {
      "cell_type": "code",
      "metadata": {
        "colab": {
          "base_uri": "https://localhost:8080/"
        },
        "id": "Z6iqDyAmamMr",
        "outputId": "a874dc46-6b6d-4971-8b86-3f97f667e5ea"
      },
      "source": [
        "from sklearn.svm import SVC\n",
        "clf = SVC()\n",
        "clf.fit(train_X_2, train_Y)"
      ],
      "execution_count": 39,
      "outputs": [
        {
          "output_type": "execute_result",
          "data": {
            "text/plain": [
              "SVC(C=1.0, break_ties=False, cache_size=200, class_weight=None, coef0=0.0,\n",
              "    decision_function_shape='ovr', degree=3, gamma='scale', kernel='rbf',\n",
              "    max_iter=-1, probability=False, random_state=None, shrinking=True,\n",
              "    tol=0.001, verbose=False)"
            ]
          },
          "metadata": {
            "tags": []
          },
          "execution_count": 39
        }
      ]
    },
    {
      "cell_type": "code",
      "metadata": {
        "id": "4X8P50l6amMr"
      },
      "source": [
        "# Transformación del DataFrame original\n",
        "\n",
        "result = one.fit_transform(df['Sex'].values.reshape(-1,1)).toarray()\n",
        "smoke_1 = df\n",
        "smoke_1[['0', '1']] = pd.DataFrame(result, index = smoke_1.index)\n",
        "smoke_2 = min_max.fit_transform(smoke_1.values)\n",
        "smoke_2 = pd.DataFrame(smoke_2, columns = smoke_1.columns)"
      ],
      "execution_count": 42,
      "outputs": []
    },
    {
      "cell_type": "code",
      "metadata": {
        "id": "-7L1aG53amMs"
      },
      "source": [
        "# Transformación del DataFrame original\n",
        "result = one.fit_transform(df['Embarked'].values.reshape(-1, 1)).toarray()\n",
        "df_1 = df\n",
        "df_1[['C', 'Q', 'S']] = pd.DataFrame(result, index = df_1.index)\n",
        "df_2 = min_max.fit_transform(df_1.values)\n",
        "df_2 = pd.DataFrame(df_2, columns=df_1.columns)"
      ],
      "execution_count": null,
      "outputs": []
    },
    {
      "cell_type": "code",
      "metadata": {
        "colab": {
          "base_uri": "https://localhost:8080/"
        },
        "id": "cAAZlIGuamMs",
        "outputId": "31e7524f-f6ca-4b1a-9e3d-c157ba2b836d"
      },
      "source": [
        "# Uso de clasificación por KMeans\n",
        "from sklearn.cluster import KMeans\n",
        "clu = KMeans(n_clusters = 3)\n",
        "clu.fit(smoke_2)\n",
        "clu.cluster_centers_"
      ],
      "execution_count": 44,
      "outputs": [
        {
          "output_type": "execute_result",
          "data": {
            "text/plain": [
              "array([[ 4.38430060e-01,  5.71177062e-01,  4.04127635e-01,\n",
              "         1.00000000e+00,  7.73809524e-02, -1.11022302e-15,\n",
              "         1.00000000e+00],\n",
              "       [ 3.97849462e-01,  4.84072896e-01,  3.17515288e-01,\n",
              "         1.11022302e-15,  2.63677968e-16,  1.00000000e+00,\n",
              "         1.11022302e-15],\n",
              "       [ 6.41025641e-01,  6.61610690e-01,  4.34815817e-01,\n",
              "         0.00000000e+00,  1.00000000e+00,  1.00000000e+00,\n",
              "         0.00000000e+00]])"
            ]
          },
          "metadata": {
            "tags": []
          },
          "execution_count": 44
        }
      ]
    },
    {
      "cell_type": "code",
      "metadata": {
        "colab": {
          "base_uri": "https://localhost:8080/"
        },
        "id": "a9m8mURqamMs",
        "outputId": "296d8a9f-5552-4bd2-ba5a-0e24c8b76841"
      },
      "source": [
        "clu.labels_"
      ],
      "execution_count": 45,
      "outputs": [
        {
          "output_type": "execute_result",
          "data": {
            "text/plain": [
              "array([1, 1, 1, 0, 0, 1, 1, 1, 1, 1, 1, 0, 1, 0, 0, 0, 0, 1, 0, 0, 1, 1,\n",
              "       1, 0, 1, 0, 0, 0, 1, 1, 1, 0, 1, 1, 1, 1, 0, 0, 0, 0, 1, 0, 0, 1,\n",
              "       1, 1, 0, 1, 0, 0, 0, 1, 0, 0, 0, 0, 1, 1, 1, 1, 0, 1, 1, 1, 0, 0,\n",
              "       0, 1, 1, 1, 0, 1, 0, 0, 0, 0, 0, 0, 0, 1, 1, 1, 0, 0, 1, 1, 0, 0,\n",
              "       0, 0, 1, 0, 0, 1, 1, 0, 0, 0, 0, 0, 1, 0, 0, 0, 1, 0, 0, 0, 1, 1,\n",
              "       1, 1, 0, 0, 1, 1, 1, 1, 1, 0, 0, 1, 1, 0, 0, 1, 0, 1, 1, 1, 0, 0,\n",
              "       0, 1, 0, 0, 0, 1, 0, 1, 0, 1, 0, 1, 0, 0, 0, 1, 1, 0, 1, 0, 0, 1,\n",
              "       1, 0, 0, 1, 1, 0, 0, 1, 1, 1, 0, 0, 1, 0, 0, 0, 0, 0, 0, 1, 0, 1,\n",
              "       1, 1, 1, 1, 0, 1, 1, 0, 0, 0, 1, 1, 0, 0, 1, 0, 0, 0, 1, 0, 1, 0,\n",
              "       0, 1, 1, 0, 1, 0, 1, 1, 1, 0, 0, 1, 1, 1, 1, 1, 1, 1, 0, 1, 1, 1,\n",
              "       1, 0, 1, 0, 0, 0, 0, 1, 1, 0, 1, 1, 0, 1, 0, 1, 1, 0, 1, 0, 1, 1,\n",
              "       1, 0, 0, 1, 1, 1, 1, 1, 0, 0, 1, 0, 0, 1, 1, 1, 0, 0, 1, 0, 0, 0,\n",
              "       0, 1, 1, 1, 1, 0, 0, 1, 0, 0, 1, 0, 0, 1, 0, 1, 0, 0, 1, 1, 1, 1,\n",
              "       0, 1, 0, 1, 1, 1, 0, 0, 0, 1, 0, 0, 0, 0, 1, 0, 1, 1, 1, 0, 1, 1,\n",
              "       0, 0, 0, 1, 0, 1, 0, 0, 1, 0, 0, 0, 0, 1, 1, 1, 0, 1, 0, 1, 0, 0,\n",
              "       0, 0, 1, 1, 1, 0, 1, 0, 0, 0, 0, 0, 1, 0, 1, 1, 0, 0, 0, 1, 0, 0,\n",
              "       0, 0, 1, 1, 1, 0, 0, 0, 0, 0, 0, 0, 1, 0, 1, 0, 0, 1, 1, 0, 1, 0,\n",
              "       1, 0, 0, 1, 1, 0, 1, 1, 0, 0, 0, 1, 1, 0, 1, 1, 0, 0, 0, 1, 0, 1,\n",
              "       1, 1, 1, 1, 0, 1, 1, 0, 1, 1, 0, 0, 1, 1, 0, 0, 0, 1, 0, 1, 1, 0,\n",
              "       1, 1, 1, 0, 1, 1, 1, 0, 0, 0, 0, 0, 0, 0, 0, 1, 0, 0, 0, 1, 0, 0,\n",
              "       0, 0, 0, 0, 0, 1, 0, 0, 1, 1, 1, 0, 1, 0, 1, 1, 0, 0, 1, 1, 1, 0,\n",
              "       1, 1, 0, 0, 0, 1, 1, 0, 1, 1, 1, 1, 0, 1, 0, 1, 1, 0, 0, 0, 1, 1,\n",
              "       0, 0, 0, 1, 0, 1, 0, 0, 0, 0, 0, 0, 1, 1, 1, 0, 1, 1, 1, 1, 1, 0,\n",
              "       0, 0, 0, 0, 0, 0, 1, 0, 1, 1, 0, 0, 0, 0, 1, 0, 1, 0, 0, 1, 1, 1,\n",
              "       0, 0, 1, 1, 1, 0, 0, 1, 0, 0, 0, 0, 1, 0, 0, 0, 1, 1, 1, 1, 0, 0,\n",
              "       1, 1, 0, 1, 1, 1, 0, 1, 0, 1, 1, 0, 0, 0, 1, 0, 0, 0, 0, 1, 1, 1,\n",
              "       0, 0, 0, 0, 0, 1, 1, 0, 0, 1, 0, 0, 1, 0, 0, 1, 1, 0, 2, 2, 2, 0,\n",
              "       0, 0, 2, 2, 2, 2, 2, 0, 2, 0, 2, 2, 2, 0, 0, 2, 2, 2, 2, 0, 2, 2,\n",
              "       2, 0, 2, 2, 2, 0, 0, 2, 2, 0, 2, 2, 0, 0, 2, 0, 2, 0, 2, 2, 2, 0,\n",
              "       2, 2, 0, 2, 2, 2, 0, 0, 0, 2, 0, 2, 0, 0, 0, 2], dtype=int32)"
            ]
          },
          "metadata": {
            "tags": []
          },
          "execution_count": 45
        }
      ]
    },
    {
      "cell_type": "code",
      "metadata": {
        "id": "tnlJCi6ZamMt"
      },
      "source": [
        ""
      ],
      "execution_count": null,
      "outputs": []
    }
  ]
}